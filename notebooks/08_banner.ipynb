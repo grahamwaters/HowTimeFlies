{
 "cells": [
  {
   "cell_type": "code",
   "execution_count": null,
   "metadata": {},
   "outputs": [],
   "source": [
    "import cv2 as cv\n",
    "import numpy as np\n",
    "import matplotlib.pyplot as plt\n",
    "import glob\n",
    "\n",
    "# create a banner image that is 50 images wide and 5 images tall (50 x 5 = 250) by cropping each image to 50 x 50 pixels and stacking them horizontally (np.hstack) and then stacking the rows vertically (np.vstack) to create a 250 x 50 image that fits in the banner image.\n",
    "# images come from ../images/* and should sample one image from each year from 1970 to 2019\n",
    "\n",
    "list_of_image_filepaths = [file for file in glob.glob(\"../images/*\")]\n",
    "list_of_image_filepaths.sort()\n",
    "print(list_of_image_filepaths)"
   ]
  }
 ],
 "metadata": {
  "kernelspec": {
   "display_name": "Python 3.9.6 ('howitschanged')",
   "language": "python",
   "name": "python3"
  },
  "language_info": {
   "name": "python",
   "version": "3.9.6"
  },
  "orig_nbformat": 4,
  "vscode": {
   "interpreter": {
    "hash": "c075cb57bce85e08d960ed5cbc5b7451d49421e201eb5dea427e7088a96cd834"
   }
  }
 },
 "nbformat": 4,
 "nbformat_minor": 2
}
