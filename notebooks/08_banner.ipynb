{
 "cells": [
  {
   "cell_type": "code",
   "execution_count": 25,
   "metadata": {},
   "outputs": [
    {
     "name": "stdout",
     "output_type": "stream",
     "text": [
      "Found 212 images\n"
     ]
    }
   ],
   "source": [
    "import cv2 as cv\n",
    "import numpy as np\n",
    "import matplotlib.pyplot as plt\n",
    "import glob\n",
    "import os\n",
    "# create a banner image that is 50 images wide and 5 images tall (50 x 5 = 250) by cropping each image to 50 x 50 pixels and stacking them horizontally (np.hstack) and then stacking the rows vertically (np.vstack) to create a 250 x 50 image that fits in the banner image.\n",
    "# images come from ../images/* and should sample one image from each year from 1970 to 2019\n",
    "\n",
    "list_of_image_filepaths = [file for file in glob.glob(\"../images/*\")]\n",
    "# only include paths that use 'images' once\n",
    "list_of_image_filepaths = [file for file in list_of_image_filepaths if file.count(\"/\") == 2 and file.count('images') == 1 and file.count('.') == 2]\n",
    "print(f'Found {len(list_of_image_filepaths)} images')"
   ]
  },
  {
   "cell_type": "code",
   "execution_count": null,
   "metadata": {},
   "outputs": [],
   "source": [
    "\n",
    "    "
   ]
  },
  {
   "cell_type": "code",
   "execution_count": 26,
   "metadata": {},
   "outputs": [
    {
     "name": "stdout",
     "output_type": "stream",
     "text": [
      "212\n"
     ]
    }
   ],
   "source": [
    "# now get the first file from each of those filepaths (they are folders)\n",
    "list_of_images = [file + '/' + os.listdir(file)[0] for file in list_of_image_filepaths]\n",
    "print(len(list_of_images))"
   ]
  },
  {
   "cell_type": "code",
   "execution_count": 31,
   "metadata": {},
   "outputs": [],
   "source": [
    "def banner_maker(list_of_image_filepaths):\n",
    "    banner = []\n",
    "    for i in range(0, len(list_of_image_filepaths), 50):\n",
    "        row = []\n",
    "        for j in range(50):\n",
    "            try:\n",
    "                # read the image\n",
    "                image = cv.imread(list_of_image_filepaths[i + j])\n",
    "                # resize the image\n",
    "                image = cv.resize(image, (50, 50))\n",
    "                # add the image to the row\n",
    "                row.append(image)\n",
    "            \n",
    "            except:\n",
    "                # make a blank image\n",
    "                image = np.zeros((50, 50, 3), np.uint8)\n",
    "                row.append(image)\n",
    "            \n",
    "        row = np.hstack(row)\n",
    "        banner.append(row)\n",
    "    banner = np.vstack(banner)\n",
    "    return banner\n",
    "\n",
    "# make a banner image\n",
    "banner = banner_maker(list_of_image_filepaths)\n",
    "\n"
   ]
  },
  {
   "cell_type": "code",
   "execution_count": 32,
   "metadata": {},
   "outputs": [
    {
     "data": {
      "text/plain": [
       "<matplotlib.image.AxesImage at 0x7fad9a02e220>"
      ]
     },
     "execution_count": 32,
     "metadata": {},
     "output_type": "execute_result"
    },
    {
     "data": {
      "image/png": "[encoded data removed]",
      "text/plain": [
       "<Figure size 640x480 with 1 Axes>"
      ]
     },
     "metadata": {},
     "output_type": "display_data"
    }
   ],
   "source": [
    "# show the banner image\n",
    "plt.imshow(banner)"
   ]
  }
 ],
 "metadata": {
  "kernelspec": {
   "display_name": "Python 3.9.6 ('howitschanged')",
   "language": "python",
   "name": "python3"
  },
  "language_info": {
   "codemirror_mode": {
    "name": "ipython",
    "version": 3
   },
   "file_extension": ".py",
   "mimetype": "text/x-python",
   "name": "python",
   "nbconvert_exporter": "python",
   "pygments_lexer": "ipython3",
   "version": "3.9.6"
  },
  "orig_nbformat": 4,
  "vscode": {
   "interpreter": {
    "hash": "c075cb57bce85e08d960ed5cbc5b7451d49421e201eb5dea427e7088a96cd834"
   }
  }
 },
 "nbformat": 4,
 "nbformat_minor": 2
}
