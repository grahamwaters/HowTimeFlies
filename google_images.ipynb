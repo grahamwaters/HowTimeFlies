{
 "cells": [
  {
   "cell_type": "code",
   "execution_count": 11,
   "source": [
    "!git clone https://github.com/arrrlo/Google-Images-Search.git\n"
   ],
   "outputs": [
    {
     "output_type": "stream",
     "name": "stdout",
     "text": [
      "fatal: destination path 'Google-Images-Search' already exists and is not an empty directory.\n"
     ]
    }
   ],
   "metadata": {}
  },
  {
   "cell_type": "code",
   "execution_count": null,
   "source": [
    "from google_images_search import GoogleImagesSearch\n",
    "\n",
    "# you can provide API key and CX using arguments,\n",
    "# or you can set environment variables: GCS_DEVELOPER_KEY, GCS_CX\n",
    "gis = GoogleImagesSearch('your_dev_api_key', 'your_project_cx')\n",
    "\n",
    "# define search params:\n",
    "_search_params = {\n",
    "    'q': '...',\n",
    "    'num': 10,\n",
    "    'safe': 'high|medium|off',\n",
    "    'fileType': 'jpg|gif|png',\n",
    "    'imgType': 'clipart|face|lineart|news|photo',\n",
    "    'imgSize': 'huge|icon|large|medium|small|xlarge|xxlarge',\n",
    "    'imgDominantColor': 'black|blue|brown|gray|green|orange|pink|purple|red|teal|white|yellow',\n",
    "    'imgColorType': 'color|gray|mono|trans',\n",
    "    'rights': 'cc_publicdomain|cc_attribute|cc_sharealike|cc_noncommercial|cc_nonderived'\n",
    "}\n",
    "\n",
    "# this will only search for images:\n",
    "gis.search(search_params=_search_params)\n",
    "\n",
    "# this will search and download:\n",
    "gis.search(search_params=_search_params, path_to_dir='/path/')\n",
    "\n",
    "# this will search, download and resize:\n",
    "gis.search(search_params=_search_params, path_to_dir='/path/', width=500, height=500)\n",
    "\n",
    "# search first, then download and resize afterwards:\n",
    "gis.search(search_params=_search_params)\n",
    "for image in gis.results():\n",
    "    image.download('/path/')\n",
    "    image.resize(500, 500)"
   ],
   "outputs": [
    {
     "output_type": "error",
     "ename": "ModuleNotFoundError",
     "evalue": "No module named 'google_images_search'",
     "traceback": [
      "\u001b[0;31m---------------------------------------------------------------------------\u001b[0m",
      "\u001b[0;31mModuleNotFoundError\u001b[0m                       Traceback (most recent call last)",
      "Input \u001b[0;32mIn [4]\u001b[0m, in \u001b[0;36m<module>\u001b[0;34m\u001b[0m\n\u001b[0;32m----> 1\u001b[0m \u001b[38;5;28;01mfrom\u001b[39;00m \u001b[38;5;21;01mgoogle_images_search\u001b[39;00m \u001b[38;5;28;01mimport\u001b[39;00m GoogleImagesSearch\n\u001b[1;32m      3\u001b[0m \u001b[38;5;66;03m# you can provide API key and CX using arguments,\u001b[39;00m\n\u001b[1;32m      4\u001b[0m \u001b[38;5;66;03m# or you can set environment variables: GCS_DEVELOPER_KEY, GCS_CX\u001b[39;00m\n\u001b[1;32m      5\u001b[0m gis \u001b[38;5;241m=\u001b[39m GoogleImagesSearch(\u001b[38;5;124m'\u001b[39m\u001b[38;5;124myour_dev_api_key\u001b[39m\u001b[38;5;124m'\u001b[39m, \u001b[38;5;124m'\u001b[39m\u001b[38;5;124myour_project_cx\u001b[39m\u001b[38;5;124m'\u001b[39m)\n",
      "\u001b[0;31mModuleNotFoundError\u001b[0m: No module named 'google_images_search'"
     ]
    }
   ],
   "metadata": {}
  }
 ],
 "metadata": {
  "orig_nbformat": 4,
  "language_info": {
   "name": "python",
   "version": "3.10.2",
   "mimetype": "text/x-python",
   "codemirror_mode": {
    "name": "ipython",
    "version": 3
   },
   "pygments_lexer": "ipython3",
   "nbconvert_exporter": "python",
   "file_extension": ".py"
  },
  "kernelspec": {
   "name": "python3",
   "display_name": "Python 3.10.2 64-bit"
  },
  "interpreter": {
   "hash": "98590ff4fe04c8543246b2a01debd3de3c5ca9b666f43f1fa87d5110c692004c"
  }
 },
 "nbformat": 4,
 "nbformat_minor": 2
}